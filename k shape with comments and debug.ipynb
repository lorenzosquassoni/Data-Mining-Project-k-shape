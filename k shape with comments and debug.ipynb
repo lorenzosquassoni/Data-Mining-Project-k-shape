{
 "cells": [
  {
   "cell_type": "markdown",
   "metadata": {},
   "source": [
    "\n",
    "TIME SERIES NORMALIZATION\n",
    "\n",
    "Input:\n",
    "\n",
    "1. 'a': numpy array contenente le time series\n",
    "2. asse su sui calcolare media e deviazione standard\n",
    "3. ddf: delta degree of freedom. =0 deviazione standard della popolazione\n",
    "\n",
    "\n",
    "Output:\n",
    "\n",
    "1. normalized array of time series"
   ]
  },
  {
   "cell_type": "code",
   "execution_count": 2,
   "metadata": {},
   "outputs": [],
   "source": [
    "import math\n",
    "import numpy as np\n",
    "import multiprocessing\n",
    "from numpy.random import randint\n",
    "from numpy.linalg import norm, eigh\n",
    "from numpy.fft import fft, ifft\n",
    "from sklearn.base import ClusterMixin, BaseEstimator"
   ]
  },
  {
   "cell_type": "code",
   "execution_count": 48,
   "metadata": {},
   "outputs": [],
   "source": [
    "def zscore(a, axis=0, ddof=0): #normalize always on the column axis\n",
    "    a = np.asanyarray(a) #convert the input a in an array\n",
    "    mns = a.mean(axis=axis) #compute the mean of the time series along the column axis (mean for each time instant)\n",
    "    sstd = a.std(axis=axis, ddof=ddof) #compute the standard deviation of the array along the column axis (mean for each time instant)\n",
    "\n",
    "    if axis and mns.ndim < a.ndim: #if the axis is specified and the n of dimensions of the mean array is < of the n of dimensions of the input array\n",
    "        res = ((a - np.expand_dims(mns, axis=axis)) / #compute normalized data and expand the the mean and sd to match the dimension with the array a (the mean and std have 1 dimension less=\n",
    "               np.expand_dims(sstd, axis=axis))\n",
    "    else:\n",
    "        res = (a - mns) / sstd #compute normalized data\n",
    "\n",
    "    return np.nan_to_num(res)\n",
    "\n",
    "   \n"
   ]
  },
  {
   "cell_type": "code",
   "execution_count": 49,
   "metadata": {},
   "outputs": [
    {
     "name": "stdout",
     "output_type": "stream",
     "text": [
      "[[ 28.     500.1   ]\n",
      " [ 13.      15.0555]\n",
      " [207.5     55.    ]]\n"
     ]
    }
   ],
   "source": [
    "#Example of multivariate array of time series:\n",
    "\n",
    "#2 time series, with 3 time instants and 2 variables\n",
    "\n",
    "a_multivariate = np.array([[[11, 1000], [25, 30], [350, 40]],\n",
    "                           [[45, 0.2], [1, 0.111], [65, 70]]])\n",
    "\n",
    "#compute the mean for each time instant\n",
    "print(a_multivariate.mean(axis=0))"
   ]
  },
  {
   "cell_type": "markdown",
   "metadata": {},
   "source": [
    "* 10 is the mean of variable 1 at time 0 /  4.5 is the mean of variable 2 at time 0\n",
    "* 2 is the mean of variable 1 at time 1 /  6.5 is the mean of variable 2 at time 1\n",
    "* ..."
   ]
  },
  {
   "cell_type": "code",
   "execution_count": 50,
   "metadata": {},
   "outputs": [
    {
     "name": "stdout",
     "output_type": "stream",
     "text": [
      "[[[-1.  1.]\n",
      "  [ 1.  1.]\n",
      "  [ 1. -1.]]\n",
      "\n",
      " [[ 1. -1.]\n",
      "  [-1. -1.]\n",
      "  [-1.  1.]]]\n"
     ]
    }
   ],
   "source": [
    "#we apply the zscore function\n",
    "\n",
    "zscore_result = zscore(a_multivariate, axis=0)\n",
    "print(zscore_result)\n"
   ]
  },
  {
   "cell_type": "code",
   "execution_count": 51,
   "metadata": {},
   "outputs": [
    {
     "name": "stdout",
     "output_type": "stream",
     "text": [
      "[[-0.52393683 -0.93494794  1.62139887]\n",
      " [-0.74848119 -1.00253454 -0.35247801]\n",
      " [ 1.72150673  0.61954382 -1.10443111]\n",
      " [-0.44908871  1.31793866 -0.16448974]]\n"
     ]
    }
   ],
   "source": [
    "#Example of monovariate array of time series: 4 time series and 3 time instants\n",
    "a_monovariate = np.array([[10, 12, 31],\n",
    "              [4, 9, 10],\n",
    "              [70, 81, 2],\n",
    "              [12, 112, 12]])\n",
    "\n",
    "#we apply the zscore function\n",
    "\n",
    "zscore_result = zscore(a_monovariate, axis=0)\n",
    "print(zscore_result)\n"
   ]
  },
  {
   "cell_type": "markdown",
   "metadata": {},
   "source": [
    "TIME SERIES SHIFTING"
   ]
  },
  {
   "cell_type": "markdown",
   "metadata": {},
   "source": []
  }
 ],
 "metadata": {
  "kernelspec": {
   "display_name": "Python 3",
   "language": "python",
   "name": "python3"
  },
  "language_info": {
   "codemirror_mode": {
    "name": "ipython",
    "version": 3
   },
   "file_extension": ".py",
   "mimetype": "text/x-python",
   "name": "python",
   "nbconvert_exporter": "python",
   "pygments_lexer": "ipython3",
   "version": "3.11.0"
  }
 },
 "nbformat": 4,
 "nbformat_minor": 2
}
