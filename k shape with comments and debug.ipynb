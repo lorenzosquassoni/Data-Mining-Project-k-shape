{
 "cells": [
  {
   "cell_type": "markdown",
   "metadata": {},
   "source": [
    "# K-shape algorithm"
   ]
  },
  {
   "cell_type": "markdown",
   "metadata": {},
   "source": [
    "## Required Python Libraries"
   ]
  },
  {
   "cell_type": "code",
   "execution_count": 16,
   "metadata": {},
   "outputs": [],
   "source": [
    "import math\n",
    "import numpy as np\n",
    "import multiprocessing\n",
    "from numpy.random import randint\n",
    "from numpy.linalg import norm, eigh\n",
    "from numpy.fft import fft, ifft\n",
    "from sklearn.base import ClusterMixin, BaseEstimator"
   ]
  },
  {
   "cell_type": "markdown",
   "metadata": {},
   "source": [
    "## Functions"
   ]
  },
  {
   "cell_type": "markdown",
   "metadata": {},
   "source": [
    "### Z-score Function"
   ]
  },
  {
   "cell_type": "markdown",
   "metadata": {},
   "source": [
    "Z-score is a mathematical approach to convert a \"Generic\" Random Variables to a Normal Random Variables. \n",
    "\n",
    "For more information about this approach: \n",
    "https://it.wikipedia.org/wiki/Standardizzazione_(statistica)"
   ]
  },
  {
   "cell_type": "markdown",
   "metadata": {},
   "source": [
    "**Function Inputs**\n",
    "1. ```a```: numpy array containing time-series values;\n",
    "2. ```axis```: axis used to evaluate mean and standard deviation. For axis we intend rows or columns.\n",
    "3. ```ddof```: Degrees of freedom correction in the calculation of the standard deviation. Default value equals to 0\n",
    "\n",
    "**Function returned values**:\n",
    "1. Normalized Time-Series\n",
    "\n",
    "**Function Assumptions**:\n",
    "1. ```axis = 0 ```: normalize always on column axis. This is true beacuse we want to normalize time instants values, to exlude possible outliers or errors"
   ]
  },
  {
   "cell_type": "code",
   "execution_count": 17,
   "metadata": {},
   "outputs": [],
   "source": [
    "def zscore(a, axis=0, ddof=0):\n",
    "    a = np.asanyarray(a) #convert the input a in an array\n",
    "    mns = a.mean(axis=axis) #compute the mean of the time series along the column axis (mean for each time instant)\n",
    "    sstd = a.std(axis=axis, ddof=ddof) #compute the standard deviation of the array along the column axis (mean for each time instant)\n",
    "\n",
    "    ## If Condition-->\n",
    "    ## If axis equals to row (axis = 1) and dimensions of mean array is lower than dimensions of time series array\n",
    "    ## -----> calculate Z score expanding dimensions of mean and std array on row axis\n",
    "    ## If axis equals to columns (axis = 0) or dimensions of mean array is equal to dimensions of time series array\n",
    "    ## -----> calculate Z score as time-series array minus its mean, divided by standard deviation\n",
    "\n",
    "    if axis and mns.ndim < a.ndim:\n",
    "        res = ((a - np.expand_dims(mns, axis=axis)) / #compute normalized data and expand the the mean and sd to match the dimension with the array a (the mean and std have 1 dimension less=\n",
    "               np.expand_dims(sstd, axis=axis))\n",
    "    else:\n",
    "        res = (a - mns) / sstd #compute normalized data\n",
    "\n",
    "    ## nan_to_num method --> replace NaN values with 0 or large integer values for infinite values\n",
    "    return np.nan_to_num(res)\n",
    "\n",
    "   \n"
   ]
  },
  {
   "cell_type": "markdown",
   "metadata": {},
   "source": [
    "### Roll_zeropad Function"
   ]
  },
  {
   "cell_type": "markdown",
   "metadata": {},
   "source": [
    "```roll_zeropad``` is a custom function to shift time series values to the right. The number of positions required by the movement are evaluated with parameter ```shift```.\n",
    "For each shift, a zero value is included in the time series."
   ]
  },
  {
   "cell_type": "markdown",
   "metadata": {},
   "source": [
    "**Function Inputs**\n",
    "1. ```a```: numpy array containing time-series values;\n",
    "2. ```shift```: Number of right movements required;\n",
    "3. ```axis```: axis to consider for right movements.\n",
    "\n",
    "**Function returned values**:\n",
    "1. Shifted Time-Series\n",
    "\n",
    "**Function Assumptions**:\n",
    "1. ```axis = None ```: time series can be considered as a 1D array and not as a matrix"
   ]
  },
  {
   "cell_type": "code",
   "execution_count": 18,
   "metadata": {},
   "outputs": [],
   "source": [
    "def roll_zeropad(a, shift, axis=None):\n",
    "    # asanyarray method --> Convert the input to an ndarray, but pass ndarray subclasses through.\n",
    "    a = np.asanyarray(a) # Ensure that the input is ndarrary data type\n",
    "\n",
    "    # If no shift is required (shift = 0), it returns the original values of time series\n",
    "    if shift == 0:\n",
    "        return a\n",
    "\n",
    "    # If axis parameter is not evaluated (axis = None)\n",
    "    # ------> consider all elements of time series and not a specific dimensions, but this requires a reshape of data at the end\n",
    "    # If axis is set\n",
    "    # ------> extracted dimensions of a specific axis (rows or columns) and work on that\n",
    "    if axis is None:\n",
    "        n = a.size\n",
    "        reshape = True\n",
    "    else:\n",
    "        n = a.shape[axis]\n",
    "        reshape = False\n",
    "\n",
    "    # zeros_like() method --> Return an array of zeros with the same shape and type as a given array.\n",
    "\n",
    "    # If shift parameter is greater than size of the time series (but this requires that no axis are specified)\n",
    "    # ------> it evaluates an array of 0 values with the same size of a\n",
    "    if np.abs(shift) > n:\n",
    "        res = np.zeros_like(a)\n",
    "    # If shift parameter is lower than 0 (moving to the left)\n",
    "    # ------> subtract the shift value to n size of the array\n",
    "    # ------> extract the indices from 0 to (n-shift) values, considering a plain array (axis = None) or a specific dimensions\n",
    "    # ------> generate a 0-valued array with size [0, (n-shift)]\n",
    "    # ------> extract values from (n-shift) position to n position\n",
    "    # ------> create an array with values in range [(n-shift),n] at the beginning and all 0 values after\n",
    "    elif shift < 0:\n",
    "        shift += n\n",
    "        zeros = np.zeros_like(a.take(np.arange(n-shift), axis))\n",
    "        res = np.concatenate((a.take(np.arange(n-shift, n), axis), zeros), axis)\n",
    "    # If shift parameter is in the range [0, size of time series]\n",
    "    # ------> extract values from (n-shift) position to n position\n",
    "    # ------> generate a 0-valued array with size [(n-shift), n]\n",
    "    # ------> extract the indices from 0 to (n-shift) values, considering a plain array (axis = None) or a specific dimensions\n",
    "    # ------> create an array with 0 value at the beginning and then values in range [0, (n-shift)]\n",
    "    else:\n",
    "        zeros = np.zeros_like(a.take(np.arange(n-shift, n), axis))\n",
    "        res = np.concatenate((zeros, a.take(np.arange(n-shift), axis)), axis)\n",
    "\n",
    "    # If reshape is required\n",
    "    # -----> change shape (row, column) of shifted array, considering shape of time series values\n",
    "    if reshape:\n",
    "        return res.reshape(a.shape)\n",
    "    else:\n",
    "        return res"
   ]
  },
  {
   "cell_type": "markdown",
   "metadata": {},
   "source": [
    "### _ncc_c_3dim Function"
   ]
  },
  {
   "cell_type": "markdown",
   "metadata": {},
   "source": [
    "```_ncc_c_3dim``` is a custom function "
   ]
  },
  {
   "cell_type": "markdown",
   "metadata": {},
   "source": [
    "**Function Inputs**\n",
    "1. ```a```: numpy array containing time-series values;\n",
    "2. ```shift```: Number of right movements required;\n",
    "3. ```axis```: axis to consider for right movements.\n",
    "\n",
    "**Function returned values**:\n",
    "1. Shifted Time-Series\n",
    "\n",
    "**Function Assumptions**:\n",
    "1. ```axis = None ```: time series can be considered as a 1D array and not as a matrix"
   ]
  },
  {
   "cell_type": "code",
   "execution_count": 42,
   "metadata": {},
   "outputs": [],
   "source": [
    "def _ncc_c_3dim(data):\n",
    "    x, y = data[0], data[1]\n",
    "    #print(x)\n",
    "    #print(y)\n",
    "    den = norm(x, axis=(0,1)) * norm(y, axis=(0,1))\n",
    "\n",
    "    if den < 1e-9:\n",
    "        den = np.inf\n",
    "\n",
    "    #print(x.shape)\n",
    "    x_len = x.shape[0]\n",
    "    fft_size = 1 << (2*x_len-1).bit_length()\n",
    "\n",
    "    cc = ifft(fft(x, fft_size, axis=0) * np.conj(fft(y, fft_size, axis=0)), axis=0)\n",
    "    cc = np.concatenate((cc[-(x_len-1):], cc[:x_len]), axis=0)\n",
    "\n",
    "    return np.real(cc).sum(axis=-1) / den"
   ]
  },
  {
   "cell_type": "code",
   "execution_count": 51,
   "metadata": {},
   "outputs": [],
   "source": [
    "def _sbd(x, y):\n",
    "    ncc = _ncc_c_3dim([x, y])\n",
    "    print(type(ncc))\n",
    "    idx = np.argmax(ncc)\n",
    "    print(ncc[idx])\n",
    "    #yshift = 1. - ncc[idx]\n",
    "    yshift = roll_zeropad(y, (idx + 1) - max(len(x), len(y)))\n",
    "\n",
    "    return yshift"
   ]
  },
  {
   "cell_type": "markdown",
   "metadata": {},
   "source": [
    "## Time Series - Examples"
   ]
  },
  {
   "cell_type": "markdown",
   "metadata": {},
   "source": [
    "### Monovariate Time Series"
   ]
  },
  {
   "cell_type": "markdown",
   "metadata": {},
   "source": [
    "Monovariate time-series can be represented as a matrix NxM with:\n",
    "- N (rows) as the number of time-series. Each row represent a time series which can be connected to a specific date \n",
    "- M (columns) as time instants considered for each time series. Each time instants respects a frequency of analysis "
   ]
  },
  {
   "cell_type": "code",
   "execution_count": 21,
   "metadata": {},
   "outputs": [],
   "source": [
    "#Example of monovariate array of time series: 4 time series and 3 time instants\n",
    "##\n",
    "a_monovariate = np.array([[10, 12, 31],\n",
    "              [4, 9, 10],\n",
    "              [70, 81, 2],\n",
    "              [12, 112, 12]])"
   ]
  },
  {
   "cell_type": "markdown",
   "metadata": {},
   "source": [
    "### Multivariate Time Series"
   ]
  },
  {
   "cell_type": "markdown",
   "metadata": {},
   "source": [
    "Multivariate time-series can be represented as a matrix NxM with:\n",
    "- N (rows) as the number of time-series. Each row represent a time series which can be connected to a specific date \n",
    "- M (columns) as time instants considered for each time series. Each time instants respects a frequency of analysis \n",
    "\n",
    "The main difference with monovariate time-series is that each cell of the matrix is an array of values. The number of elements of the array can be considered as the number of variables involved, in addition to timestamp"
   ]
  },
  {
   "cell_type": "code",
   "execution_count": 22,
   "metadata": {},
   "outputs": [
    {
     "name": "stdout",
     "output_type": "stream",
     "text": [
      "Mean\n",
      "-----------\n",
      "[[ 24.33333333 353.06666667]\n",
      " [ 12.33333333  14.70366667]\n",
      " [153.33333333  65.66666667]]\n",
      "Std\n",
      "-----------\n",
      "[[ 14.81740718 458.080352  ]\n",
      " [  9.84321537  12.21227362]\n",
      " [139.30382463  19.43078886]]\n"
     ]
    }
   ],
   "source": [
    "#Example of multivariate array of time series:\n",
    "\n",
    "#2 time series, with 3 time instants and 2 variables\n",
    "\n",
    "a_multivariate = np.array([[[11, 1000], [25, 30], [350, 40]],\n",
    "                           [[45, 0.2], [1, 0.111], [65, 70]],\n",
    "                           [[17, 59], [11, 14], [45, 87]]])\n",
    "\n",
    "#compute the mean for each time instant\n",
    "print(\"Mean\\n-----------\")\n",
    "print(a_multivariate.mean(axis=0))\n",
    "print(\"Std\\n-----------\")\n",
    "print(a_multivariate.std(axis=0))"
   ]
  },
  {
   "cell_type": "markdown",
   "metadata": {},
   "source": [
    "The output can be explained as:\n",
    "- Cell 0,0 ==> mean (or std) of first elements of first time instant;\n",
    "- Cell 0,1 ==> mean (or std) of second elements of first time instant;\n",
    "- Cell 1,0 ==> mean (or std) of first elements of second time instant;\n",
    "....\n",
    "\n",
    "So the output is a matrix Nx(M-1)"
   ]
  },
  {
   "cell_type": "markdown",
   "metadata": {},
   "source": [
    "### Multivariate Time Series - zScore"
   ]
  },
  {
   "cell_type": "code",
   "execution_count": 23,
   "metadata": {},
   "outputs": [
    {
     "name": "stdout",
     "output_type": "stream",
     "text": [
      "[[[-0.89984254  1.41227042]\n",
      "  [ 1.28684238  1.25253772]\n",
      "  [ 1.41178225 -1.32092767]]\n",
      "\n",
      " [[ 1.39475594 -0.77031609]\n",
      "  [-1.15138528 -1.19491809]\n",
      "  [-0.63410559  0.22301376]]\n",
      "\n",
      " [[-0.4949134  -0.64195433]\n",
      "  [-0.13545709 -0.05761963]\n",
      "  [-0.77767666  1.09791391]]]\n"
     ]
    }
   ],
   "source": [
    "#we apply the zscore function\n",
    "zscore_result = zscore(a_multivariate)\n",
    "print(zscore_result)"
   ]
  },
  {
   "cell_type": "markdown",
   "metadata": {},
   "source": [
    "### Monovariate Time Series - zScore"
   ]
  },
  {
   "cell_type": "code",
   "execution_count": 24,
   "metadata": {},
   "outputs": [
    {
     "name": "stdout",
     "output_type": "stream",
     "text": [
      "[[-0.52393683 -0.93494794  1.62139887]\n",
      " [-0.74848119 -1.00253454 -0.35247801]\n",
      " [ 1.72150673  0.61954382 -1.10443111]\n",
      " [-0.44908871  1.31793866 -0.16448974]]\n"
     ]
    }
   ],
   "source": [
    "#we apply the zscore function\n",
    "zscore_result = zscore(a_monovariate, axis=0)\n",
    "print(zscore_result)\n"
   ]
  },
  {
   "cell_type": "markdown",
   "metadata": {},
   "source": [
    "### Monovariate Time Series - Shifting"
   ]
  },
  {
   "cell_type": "code",
   "execution_count": 25,
   "metadata": {},
   "outputs": [
    {
     "name": "stdout",
     "output_type": "stream",
     "text": [
      "[[ 10  12  31]\n",
      " [  4   9  10]\n",
      " [ 70  81   2]\n",
      " [ 12 112  12]]\n"
     ]
    }
   ],
   "source": [
    "print(a_monovariate)"
   ]
  },
  {
   "cell_type": "code",
   "execution_count": 26,
   "metadata": {},
   "outputs": [
    {
     "name": "stdout",
     "output_type": "stream",
     "text": [
      "[[  0  10  12]\n",
      " [ 31   4   9]\n",
      " [ 10  70  81]\n",
      " [  2  12 112]]\n"
     ]
    }
   ],
   "source": [
    "a_monovariate_shifted = roll_zeropad(a_monovariate, 1)\n",
    "print(a_monovariate_shifted)"
   ]
  },
  {
   "cell_type": "markdown",
   "metadata": {},
   "source": [
    "Evaluating parameter ```shift``` to 1, the function shifts time series to the right of one position"
   ]
  },
  {
   "cell_type": "code",
   "execution_count": 27,
   "metadata": {},
   "outputs": [
    {
     "name": "stdout",
     "output_type": "stream",
     "text": [
      "[[ 12  31   4]\n",
      " [  9  10  70]\n",
      " [ 81   2  12]\n",
      " [112  12   0]]\n"
     ]
    }
   ],
   "source": [
    "a_monovariate_shifted = roll_zeropad(a_monovariate, -1)\n",
    "print(a_monovariate_shifted)"
   ]
  },
  {
   "cell_type": "markdown",
   "metadata": {},
   "source": [
    "Evaluating parameter ```shift``` to -1, the function shifts time series to the left of one position"
   ]
  },
  {
   "cell_type": "code",
   "execution_count": 28,
   "metadata": {},
   "outputs": [
    {
     "name": "stdout",
     "output_type": "stream",
     "text": [
      "[[ 0  0  0]\n",
      " [ 0  0 10]\n",
      " [12 31  4]\n",
      " [ 9 10 70]]\n"
     ]
    }
   ],
   "source": [
    "a_monovariate_shifted = roll_zeropad(a_monovariate, 5)\n",
    "print(a_monovariate_shifted)"
   ]
  },
  {
   "cell_type": "code",
   "execution_count": 29,
   "metadata": {},
   "outputs": [
    {
     "name": "stdout",
     "output_type": "stream",
     "text": [
      "[[  4   9  10]\n",
      " [ 70  81   2]\n",
      " [ 12 112  12]\n",
      " [  0   0   0]]\n"
     ]
    }
   ],
   "source": [
    "a_monovariate_shifted = roll_zeropad(a_monovariate, -3)\n",
    "print(a_monovariate_shifted)"
   ]
  },
  {
   "cell_type": "markdown",
   "metadata": {},
   "source": [
    "### Multivariate Time Series - Shifting"
   ]
  },
  {
   "cell_type": "code",
   "execution_count": 30,
   "metadata": {},
   "outputs": [
    {
     "name": "stdout",
     "output_type": "stream",
     "text": [
      "[[[1.10e+01 1.00e+03]\n",
      "  [2.50e+01 3.00e+01]\n",
      "  [3.50e+02 4.00e+01]]\n",
      "\n",
      " [[4.50e+01 2.00e-01]\n",
      "  [1.00e+00 1.11e-01]\n",
      "  [6.50e+01 7.00e+01]]\n",
      "\n",
      " [[1.70e+01 5.90e+01]\n",
      "  [1.10e+01 1.40e+01]\n",
      "  [4.50e+01 8.70e+01]]]\n"
     ]
    }
   ],
   "source": [
    "print(a_multivariate)"
   ]
  },
  {
   "cell_type": "code",
   "execution_count": 31,
   "metadata": {},
   "outputs": [
    {
     "name": "stdout",
     "output_type": "stream",
     "text": [
      "[[[0.00e+00 1.10e+01]\n",
      "  [1.00e+03 2.50e+01]\n",
      "  [3.00e+01 3.50e+02]]\n",
      "\n",
      " [[4.00e+01 4.50e+01]\n",
      "  [2.00e-01 1.00e+00]\n",
      "  [1.11e-01 6.50e+01]]\n",
      "\n",
      " [[7.00e+01 1.70e+01]\n",
      "  [5.90e+01 1.10e+01]\n",
      "  [1.40e+01 4.50e+01]]]\n"
     ]
    }
   ],
   "source": [
    "a_multivariate_shifted = roll_zeropad(a_multivariate, 1)\n",
    "print(a_multivariate_shifted)"
   ]
  },
  {
   "cell_type": "markdown",
   "metadata": {},
   "source": [
    "The shifting works across the same row. Considering that each element of row has an array of values, which indexes means different variables to analyze (temp, humidity, etc), this can generate misunderstanding data because the operation changes the variable associated to data value"
   ]
  },
  {
   "cell_type": "markdown",
   "metadata": {},
   "source": [
    "### Monovariate Time Series - NCCc"
   ]
  },
  {
   "cell_type": "code",
   "execution_count": 32,
   "metadata": {},
   "outputs": [
    {
     "name": "stdout",
     "output_type": "stream",
     "text": [
      "[[2 5]]\n",
      "[[2 5]]\n",
      "(1, 2)\n",
      "[1. 0. 1.]\n"
     ]
    }
   ],
   "source": [
    "x = np.array([[2,5]])\n",
    "y = np.array([[2,5]])\n",
    "\n",
    "nccc = _ncc_c_3dim([x,y])\n",
    "\n",
    "print(nccc)"
   ]
  },
  {
   "cell_type": "code",
   "execution_count": 52,
   "metadata": {},
   "outputs": [
    {
     "name": "stdout",
     "output_type": "stream",
     "text": [
      "<class 'numpy.ndarray'>\n",
      "1.0000000000000002\n",
      "SBD: [[2 5]]\n"
     ]
    }
   ],
   "source": [
    "sbd = _sbd(x,y)\n",
    "\n",
    "print(f\"SBD: {sbd}\")"
   ]
  },
  {
   "cell_type": "markdown",
   "metadata": {},
   "source": []
  }
 ],
 "metadata": {
  "kernelspec": {
   "display_name": "Python 3",
   "language": "python",
   "name": "python3"
  },
  "language_info": {
   "codemirror_mode": {
    "name": "ipython",
    "version": 3
   },
   "file_extension": ".py",
   "mimetype": "text/x-python",
   "name": "python",
   "nbconvert_exporter": "python",
   "pygments_lexer": "ipython3",
   "version": "3.11.6"
  }
 },
 "nbformat": 4,
 "nbformat_minor": 2
}
