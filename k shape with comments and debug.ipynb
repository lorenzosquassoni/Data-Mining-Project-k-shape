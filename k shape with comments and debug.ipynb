{
 "cells": [
  {
   "cell_type": "markdown",
   "metadata": {},
   "source": [
    "\n",
    "TIME SERIES NORMALIZATION\n",
    "\n",
    "Input:\n",
    "\n",
    "1. 'a': numpy array contenente le time series\n",
    "2. asse su sui calcolare media e deviazione standard\n",
    "3. ddf: delta degree of freedom. =0 deviazione standard della popolazione\n",
    "\n",
    "\n",
    "Output:\n",
    "\n",
    "1. normalized array of time series"
   ]
  },
  {
   "cell_type": "code",
   "execution_count": null,
   "metadata": {},
   "outputs": [],
   "source": [
    "     \n",
    "def zscore(a, axis=0, ddof=0):\n",
    "    a = np.asanyarray(a) #convert the input a in an array\n",
    "    mns = a.mean(axis=axis) #compute the mean of the array\n",
    "    sstd = a.std(axis=axis, ddof=ddof) #compute the standard deviation of the array\n",
    "\n",
    "    if axis and mns.ndim < a.ndim: #\n",
    "        res = ((a - np.expand_dims(mns, axis=axis)) /\n",
    "               np.expand_dims(sstd, axis=axis))\n",
    "    else:\n",
    "        res = (a - mns) / sstd\n",
    "\n",
    "    return np.nan_to_num(res)\n",
    "\n",
    "a=no\n",
    "zscore()    \n"
   ]
  }
 ],
 "metadata": {
  "language_info": {
   "name": "python"
  }
 },
 "nbformat": 4,
 "nbformat_minor": 2
}
